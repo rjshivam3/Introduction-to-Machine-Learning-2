{
 "cells": [
  {
   "cell_type": "markdown",
   "id": "9067f415-e64a-4cbc-952b-4149feea3287",
   "metadata": {},
   "source": [
    "## Q1: Define overfitting and underfitting in machine learning. What are the consequences of each, and how can they be mitigated?\n",
    "\n",
    "### Overfitting\n",
    "Overfitting occurs when a model learns the training data too well, capturing noise and details that do not generalize to new data. Consequences include poor performance on test data and inability to generalize.\n",
    "\n",
    "**Mitigation Strategies:**\n",
    "- Simplify the model (e.g., fewer parameters).\n",
    "- Use more training data.\n",
    "- Apply regularization techniques.\n",
    "- Cross-validation.\n",
    "\n",
    "### Underfitting\n",
    "Underfitting occurs when a model is too simple to capture the underlying patterns in the data, resulting in poor performance on both training and test data.\n",
    "\n",
    "**Mitigation Strategies:**\n",
    "- Increase model complexity (e.g., more parameters).\n",
    "- Improve feature engineering.\n",
    "- Reduce regularization.\n",
    "- Use a different model architecture.\n"
   ]
  },
  {
   "cell_type": "markdown",
   "id": "693c0c3e-6fbc-447e-8087-967d31a8c2e0",
   "metadata": {},
   "source": [
    "## Q2: How can we reduce overfitting? Explain in brief.\n",
    "\n",
    "To reduce overfitting:\n",
    "- **Cross-Validation:** Use techniques like k-fold cross-validation.\n",
    "- **Regularization:** Apply L1 or L2 regularization to penalize large coefficients.\n",
    "- **Pruning:** For decision trees, limit the depth or prune branches.\n",
    "- **Dropout:** In neural networks, randomly drop units during training.\n",
    "- **Early Stopping:** Stop training when performance on a validation set deteriorates.\n"
   ]
  },
  {
   "cell_type": "markdown",
   "id": "a349aa93-f84f-4e84-af10-cd8856e45c19",
   "metadata": {},
   "source": [
    "## Q3: Explain underfitting. List scenarios where underfitting can occur in ML.\n",
    "\n",
    "### Explanation\n",
    "Underfitting happens when the model is too simple to capture the complexity of the data.\n",
    "\n",
    "### Scenarios\n",
    "- Using linear regression for non-linear data.\n",
    "- Inadequate training (too few epochs).\n",
    "- Insufficient features (not enough predictors).\n",
    "- High regularization (over-penalizing the model).\n"
   ]
  },
  {
   "cell_type": "markdown",
   "id": "0e501d42-c579-4b63-bef6-9a38364ded59",
   "metadata": {},
   "source": [
    "## Q4: Explain the bias-variance tradeoff in machine learning. What is the relationship between bias and variance, and how do they affect model performance?\n",
    "\n",
    "### Bias\n",
    "Bias refers to errors due to overly simplistic assumptions in the learning algorithm. High bias can cause underfitting.\n",
    "\n",
    "### Variance\n",
    "Variance refers to errors due to the model's sensitivity to small fluctuations in the training data. High variance can cause overfitting.\n",
    "\n",
    "### Tradeoff\n",
    "- **High Bias:** Low complexity, high error on training and test data.\n",
    "- **High Variance:** High complexity, low error on training data, high error on test data.\n",
    "\n",
    "Optimal model performance is achieved by balancing bias and variance.\n"
   ]
  },
  {
   "cell_type": "markdown",
   "id": "535b2cfc-90f7-43c7-aea4-03148fe399e5",
   "metadata": {},
   "source": [
    "## Q5: Discuss some common methods for detecting overfitting and underfitting in machine learning models. How can you determine whether your model is overfitting or underfitting?\n",
    "\n",
    "### Methods\n",
    "- **Learning Curves:** Plot training and validation error.\n",
    "- **Cross-Validation:** Evaluate performance on multiple folds.\n",
    "- **Residual Analysis:** Examine residuals for patterns.\n",
    "\n",
    "### Determining Overfitting\n",
    "- High accuracy on training data, low accuracy on test data.\n",
    "\n",
    "### Determining Underfitting\n",
    "- Low accuracy on both training and test data.\n"
   ]
  },
  {
   "cell_type": "markdown",
   "id": "9b402bd3-a1ab-4c95-be2b-6b8371d4e7ce",
   "metadata": {},
   "source": [
    "## Q6: Compare and contrast bias and variance in machine learning. What are some examples of high bias and high variance models, and how do they differ in terms of their performance?\n",
    "\n",
    "### Comparison\n",
    "- **Bias:** Error from erroneous assumptions in the model.\n",
    "- **Variance:** Error from sensitivity to small changes in the training set.\n",
    "\n",
    "### Examples\n",
    "- **High Bias:** Linear regression on non-linear data.\n",
    "- **High Variance:** Decision trees with deep branches.\n",
    "\n",
    "### Performance\n",
    "- **High Bias:** Poor fit on training and test data.\n",
    "- **High Variance:** Good fit on training data, poor fit on test data.\n"
   ]
  },
  {
   "cell_type": "markdown",
   "id": "dc731b11-71e1-46c6-9bf3-46f9aef7c2c0",
   "metadata": {},
   "source": [
    "## Q7: What is regularization in machine learning, and how can it be used to prevent overfitting? Describe some common regularization techniques and how they work.\n",
    "\n",
    "### Explanation\n",
    "Regularization involves adding a penalty to the loss function to prevent overfitting by discouraging overly complex models.\n",
    "\n",
    "### Techniques\n",
    "- **L1 Regularization (Lasso):** Adds absolute value of coefficients to the loss function.\n",
    "- **L2 Regularization (Ridge):** Adds squared value of coefficients to the loss function.\n",
    "- **Dropout:** Randomly drops units in a neural network during training.\n",
    "- **Early Stopping:** Stops training when performance on validation data stops improving.\n",
    "\n",
    "### How They Work\n",
    "- **L1/L2 Regularization:** Penalizes large weights, encouraging simpler models.\n",
    "- **Dropout:** Prevents co-adaptation of neurons by dropping them randomly.\n",
    "- **Early Stopping:** Prevents overfitting by stopping training at the optimal point.\n"
   ]
  },
  {
   "cell_type": "code",
   "execution_count": null,
   "id": "62f472ba-ea2a-48e9-90a5-9764583e38dc",
   "metadata": {},
   "outputs": [],
   "source": []
  }
 ],
 "metadata": {
  "kernelspec": {
   "display_name": "Python 3 (ipykernel)",
   "language": "python",
   "name": "python3"
  },
  "language_info": {
   "codemirror_mode": {
    "name": "ipython",
    "version": 3
   },
   "file_extension": ".py",
   "mimetype": "text/x-python",
   "name": "python",
   "nbconvert_exporter": "python",
   "pygments_lexer": "ipython3",
   "version": "3.10.8"
  }
 },
 "nbformat": 4,
 "nbformat_minor": 5
}
